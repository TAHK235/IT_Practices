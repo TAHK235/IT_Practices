{
 "cells": [
  {
   "cell_type": "markdown",
   "metadata": {},
   "source": [
    "# Рабочая тетрадь №3. Основы Phyton. Библиотеки\n",
    "###  %USERNAME%"
   ]
  },
  {
   "cell_type": "markdown",
   "metadata": {},
   "source": [
    "&emsp;Постановка задачи классификации  \n",
    "\n",
    "&emsp;Классификация — один из разделов машинного обучения,\n",
    "посвященный решению следующей задачи. Имеется множество объектов\n",
    "(ситуаций), разделённых некоторым образом на классы. Задано конечное\n",
    "множество объектов, для которых известно, к каким классам они относятся.\n",
    "Это множество называется обучающей выборкой. Классовая\n",
    "принадлежность остальных объектов не известна. Требуется построить\n",
    "алгоритм, способный классифицировать произвольный объект из исходного\n",
    "множества.  \n",
    "\n",
    "&emsp;Классифицировать объект — значит, указать номер (или\n",
    "наименование класса), к которому относится данный объект.  \n",
    "\n",
    "&emsp;Классификация объекта — номер или наименование класса,\n",
    "выдаваемый алгоритмом классификации в результате его применения к\n",
    "данному конкретному объекту."
   ]
  },
  {
   "cell_type": "markdown",
   "metadata": {},
   "source": [
    "### Функции Python\n",
    "&emsp;Перед тем как рассматривать задачи классификации вспомним\n",
    "понятие функции (метода) в Python. Функция в python - объект,\n",
    "принимающий аргументы и возвращающий значение. Обычно функция\n",
    "определяется с помощью инструкции `def`.  \n",
    "__&emsp;Определим простейшую функцию:  \n",
    "&emsp;def add(x, y):  \n",
    "&emsp;&emsp;return x + y__  \n",
    "\n",
    "Инструкция return говорит, что нужно вернуть значение. В нашем случае функция возвращает сумму x и y. Теперь мы ее можем вызвать:  \n",
    "__&emsp;add(1, 10)  \n",
    "&emsp;add('abc', 'def')  \n",
    "&emsp;'abcdef__'  \n",
    "\n",
    "Функция может быть любой сложности и возвращать любые объекты\n",
    "(списки, кортежи, и даже функции):\n",
    "\n",
    "__&emsp;def newfunc(n):  \n",
    "&emsp;&emsp;def myfunc(x):  \n",
    "&emsp;&emsp;&emsp;return x + n  \n",
    "&emsp;&emsp;return myfunc  \n",
    "&emsp;new = newfunc(100) # new - это функция  \n",
    "&emsp;new(200)  \n",
    "&emsp;300__  \n",
    "\n",
    "&emsp;Функция может и не заканчиваться инструкцией return, при этом функция вернет значение None:  \n",
    "__&emsp;def func():  \n",
    "&emsp;&emsp;pass  \n",
    "&emsp;print(func())  \n",
    "&emsp;None__  \n",
    "\n",
    "&emsp;Функция может принимать произвольное количество аргументов или не принимать их вовсе. Также распространены функции с произвольным числом аргументов, функции с позиционными и именованными аргументами, обязательными и необязательными.  \n",
    "\n",
    "__&emsp;def func(*args):  \n",
    "&emsp;&emsp;return args  \n",
    "&emsp;func(1, 2, 3, 'abc')  \n",
    "&emsp;(1, 2, 3, 'abc')  \n",
    "&emsp;func()  \n",
    "&emsp;()  \n",
    "&emsp;func(1)  \n",
    "&emsp;(1,)__  \n",
    "\n",
    "&emsp;Как видно из примера, args - это кортеж из всех переданных\n",
    "аргументов функции, и с переменной можно работать также, как и с\n",
    "кортежем.\n",
    "Функция может принимать и произвольное число именованных\n",
    "аргументов, тогда перед именем ставится **:\n",
    "\n",
    "&emsp;def func(**kwargs):  \n",
    "&emsp;&emsp;return kwargs  \n",
    "&emsp;func(a=1, b=2, c=3)  \n",
    "&emsp;{'a': 1, 'c': 3, 'b': 2}  \n",
    "&emsp;func()  \n",
    "&emsp;{}  \n",
    "&emsp;func(a='python')  \n",
    "&emsp;{'a': 'python'}  \n",
    "\n",
    "\n",
    "### 1.2.1 Пример\n",
    "Задача:\n",
    "\n",
    "Напишите функцию sum_range(start, end), которая суммирует все целые\n",
    "числа от значения «start» до величины «end» включительно.\n",
    "Если пользователь задаст первое число большее чем второе, просто\n",
    "поменяйте их местами.\n",
    "\n",
    "Решение:"
   ]
  },
  {
   "cell_type": "code",
   "execution_count": 1,
   "metadata": {
    "pycharm": {
     "name": "#%%\n"
    }
   },
   "outputs": [
    {
     "name": "stdout",
     "output_type": "stream",
     "text": [
      "77\n",
      "0\n",
      "5\n"
     ]
    }
   ],
   "source": [
    "def sum_range(start,end):\n",
    "    if start > end:\n",
    "        end, start = start, end\n",
    "    return sum(range(start, end + 1))\n",
    "print(sum_range(2,12))\n",
    "print(sum_range(-4,4))\n",
    "print(sum_range(3,2))"
   ]
  },
  {
   "cell_type": "markdown",
   "metadata": {},
   "source": [
    "### 1.2.2 Пример\n",
    "\n",
    "Задача:\n",
    "\n",
    "Напишите рекурсивную функцию вычисления факториала на языке\n",
    "Python."
   ]
  },
  {
   "cell_type": "code",
   "execution_count": 2,
  "metadata": {},
   "outputs": [
    {
     "name": "stdout",
     "output_type": "stream",
     "text": [
      "120\n"
     ]
    }
   ],
   "source": [
    "def fact(num):\n",
    "    if num == 0:\n",
    "        return 1 # По договоренности факториал нуля равен единице\n",
    "    else:\n",
    "        return num * fact(num - 1)\n",
    "    # возвращаем результат произведения num и результата возвращаемого функцией fact(num - 1)\n",
    "print (fact(5))"
   ]
  },
  {
   "cell_type": "markdown",
   "metadata": {},
   "source": [
    "### Расстояние между объектами класса\n",
    "\n",
    "Сходство или различие между объектами классификации\n",
    "устанавливается в зависимости от выбранного метрического расстояния\n",
    "между ними. Если каждый объект описывается n свойствами (признаками),\n",
    "то он может быть представлен как точка в n-мерном пространстве, и\n",
    "сходство с другими объектами будет определяться как соответствующее\n",
    "расстояние. При классификации используются различные меры расстояния\n",
    "между объектами.\n",
    "1. Евклидово расстояние\n",
    "\n",
    "Это, пожалуй, наиболее часто используемая мера расстояния. Она\n",
    "является геометрическим расстоянием в многомерном пространстве и\n",
    "вычисляется следующим образом:\n",
    "<div align=\"сenter\">\n",
    "<img src=\"data:image/png;base64,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\" align=\"сenter\" style=\"width: 30%\" />\n",
    "</div>\n",
    "где\n",
    "\n",
    "* 𝑃 – расстояние между объектами A и B;\n",
    "\n",
    "* 𝐴𝑖 – значение i-свойства объекта A;\n",
    "\n",
    "* 𝐵𝑖 – значение i-свойства объекта B.\n",
    "\n",
    "\n",
    "2. Квадрат евклидова расстояния\n",
    "\n",
    "Данная мера расстояния используется в тех случаях, когда требуется\n",
    "придать больше значение более отдаленным друг от друга объектам. Это\n",
    "расстояние вычисляется следующим образом:\n",
    "<div align=\"сenter\">\n",
    "<img src=\"https://encrypted-tbn0.gstatic.com/images?q=tbn:ANd9GcRVu3rdT4Zqr1b7j-FQXslzat33hai5Iog0LA&usqp=CAU\" align=\"сenter\" style=\"width: 30%\"\n",
    "</div>\n",
    "\n",
    "3. Взвешенное евклидово расстояние\n",
    "\n",
    "Применяется в тех случаях, когда каждому i-свойству удается приписать\n",
    "некоторый «вес» wi, пропорционально степени важности признака в задаче\n",
    "классификации:\n",
    "<div align=\"сenter\">\n",
    "<img src=\"https://sun9-2.userapi.com/impf/eLuN2Fsjalwl5QQZyGVXLtRvAwUvHT9KB0Mf5A/KuwfV9eV-rU.jpg?size=247x130&quality=96&sign=83143a6cfdef5e382e62a81100b84605&type=album\" align=\"сenter\" style=\"width: 35%\"\n",
    "</div>\n",
    "\n",
    "4. Хеммингово расстояние\n",
    "\n",
    "Также называется манхэттенским, сити-блок расстоянием или расстоянием\n",
    "городских кварталов. Это расстояние является разностью по координатам.\n",
    "Хеммингово расстояние вычисляется по формуле:\n",
    "<div align=\"сenter\">\n",
    "<img src=\"https://sun9-28.userapi.com/impf/HO0cOKRF0337Fl8Dk44QXynePcQlmZWriqU9rw/jOB0khxJ4I4.jpg?size=206x90&quality=96&sign=aa216b82da47a687bac19d3922ee154a&type=album\" align=\"сenter\" style=\"width: 35%\"\n",
    "</div>\n",
    "\n",
    "5. Расстояние Чебышева\n",
    "\n",
    "Принимает значение наибольшего модуля разности между значениями\n",
    "соответствующих свойств (признаков) объектов:\n",
    "<div align=\"сenter\">\n",
    "<img src=\"https://sun9-58.userapi.com/impf/QpOaoPsuG9x2uzMFHJCCsUOniW_W-u55BPpkNQ/QYXdnf-WQDo.jpg?size=264x40&quality=96&sign=da7cf462bcbee6a21ad80e22ea0104c8&type=album\" align=\"сenter\" style=\"width: 35%\"\n",
    "</div>\n",
    "\n",
    "Выбор меры расстояния и весов для классифицирующих свойств –\n",
    "очень важный этап, так как от этих процедур зависят состав и количество\n",
    "формируемых классов, а также степень сходства объектов внутри классов.\n",
    "\n",
    "### 1.2.3 Пример\n",
    "\n",
    "Задача:\n",
    "\n",
    "Напишите функции в Python, которая вычисляет Евклидово расстояние\n",
    "между двумя массивами NumPy.\n",
    "\n",
    "Решение:"
   ]
  },
  {
   "cell_type": "code",
   "execution_count": 3,
  "metadata": {},
   "outputs": [
    {
     "name": "stdout",
     "output_type": "stream",
     "text": [
      "5.196152422706632\n"
     ]
    }
   ],
   "source": [
    "import numpy as np\n",
    "def euclidean_distance(v1, v2):\n",
    "    return sum((x - y) ** 2 for x, y in zip(v1, v2))** 0.5\n",
    "x = np.array([0,0,0])\n",
    "y = np.array([3,3,3])\n",
    "print(euclidean_distance(x,y))"
   ]
  },
  {
   "cell_type": "markdown",
   "metadata": {},
   "source": [
    "### 1.2.4 Пример\n",
    "Задача:\n",
    "\n",
    "Напишите 4 функции в Python, которые рассчитывают квадрат Евклидова\n",
    "расстояния, взвешенное евклидово расстояние, Хеммингово расстояние и\n",
    "расстояние Чебышева между двумя массивами NumPy.\n",
    "\n",
    "Решение:"
   ]
  },
  {
   "cell_type": "code",
   "execution_count": 5,
  "metadata": {},
   "outputs": [
    {
     "name": "stdout",
     "output_type": "stream",
     "text": [
      "27\n",
      "3.0\n",
      "9\n",
      "3\n"
     ]
    }
   ],
   "source": [
    "def sqr_euclidean_distance(v1, v2):\n",
    "    return sum((x - y)**2 for x, y in zip(v1, v2))\n",
    "\n",
    "def weighted_euclidean_distance(v1, v2, w):\n",
    "    return sum((x - y)** 2 * s for x,y,s in zip(v1, v2, w))**0.5\n",
    "\n",
    "def manhattan_distance(v1, v2):\n",
    "    return sum(abs(x - y) for (x,y) in zip(v1, v2))\n",
    "\n",
    "def chebyshev_distance(v1, v2):\n",
    "    return max(abs(x - y) for (x,y) in zip(v1, v2))\n",
    "\n",
    "x = np.array([0,0,0])\n",
    "y = np.array([3,3,3])\n",
    "w = np.array([0,0,1])\n",
    "print(sqr_euclidean_distance(x,y))\n",
    "print(weighted_euclidean_distance(x,y,w))\n",
    "print(manhattan_distance(x,y))\n",
    "print(chebyshev_distance(x,y))"
   ]
  },
  {
   "cell_type": "markdown",
   "metadata": {},
   "source": [
    "### 1.2.5 Пример\n",
    "Задача:\n",
    "\n",
    "В Python есть встроенные функции для вычисления расстояний между\n",
    "векторами. Мы будем использовать NumPy для расчета расстояния для\n",
    "двух точек, поскольку ранее рассмотренные структуры данных могут быть\n",
    "переведены в Numpy массив с помощью специальных функций.\n",
    "Например, для серий это будет выглядеть следующим образом:\n",
    "seriesName.to_numpy().\n",
    "\n",
    "Для удобства визуализации и анализа результатов в дальнейших расчетах\n",
    "будем использовать 2 точки в 3-х мерном пространстве:\n",
    "\n",
    "Решение:"
   ]
  },
  {
   "cell_type": "code",
   "execution_count": 7,
  "metadata": {},
   "outputs": [
    {
     "data": {
      "image/png": "[encoded data removed]",
      "text/plain": [
       "<Figure size 432x288 with 1 Axes>"
      ]
     },
     "metadata": {
      "needs_background": "light"
     },
     "output_type": "display_data"
    }
   ],
   "source": [
    "import matplotlib.pyplot as plt\n",
    "#from mpl_toolkits.mplot3d import Axes3D\n",
    "\n",
    "fig = plt.figure()\n",
    "ax = fig.add_subplot(111, projection = '3d')\n",
    "\n",
    "ax.scatter(0,0,0)\n",
    "ax.scatter(3,3,3)\n",
    "plt.show()"
   ]
  },
  {
   "cell_type": "markdown",
   "metadata": {},
   "source": [
    "### 1.2.6 Пример\n",
    "\n",
    "Задача:\n",
    "\n",
    "Рассчитать расстояния между двумя точками с использованием методов\n",
    "определения расстояний, представленных выше.\n",
    "\n",
    "Решение"
   ]
  },
  {
   "cell_type": "code",
   "execution_count": 14,
  "metadata": {},
   "outputs": [
    {
     "name": "stdout",
     "output_type": "stream",
     "text": [
      "5.196152422706632\n",
      "27.0\n"
     ]
    }
   ],
   "source": [
    "# Расстояние Евклида\n",
    "print(np.linalg.norm(x - y))\n",
    "#Квадрат Евклидова расстояниея\n",
    "print(np.linalg.norm(x - y)**2)"
   ]
  },
  {
   "cell_type": "code",
   "execution_count": 16,
  "metadata": {},
   "outputs": [
    {
     "name": "stdout",
     "output_type": "stream",
     "text": [
      "3.0\n",
      "9.0\n"
     ]
    }
   ],
   "source": [
    "import numpy as np\n",
    "x = np.array([0,0,0])\n",
    "y = np.array([3,3,3])\n",
    "#Расстояние Чебешева\n",
    "print(np.linalg.norm(abs(x - y), ord = np.inf))\n",
    "#Расстояние Хемминга\n",
    "print(np.linalg.norm(abs(x - y),ord = 1))"
   ]
  },
  {
   "cell_type": "markdown",
   "metadata": {},
   "source": [
    "### 1.3.1 Задание\n",
    "\n",
    "Задача:\n",
    "\n",
    "Задайте 4 точки в трехмерном пространстве, рассчитайте между ними\n",
    "расстояния по описанным в примере выше метрикам. Отобразите точки\n",
    "в трехмерном пространстве.\n",
    "\n",
    "Решение:"
   ]
  },
  {
   "cell_type": "code",
   "execution_count": 41,
  "metadata": {},
   "outputs": [
    {
     "data": {
      "image/png": "[encoded data removed]",
      "text/plain": [
       "<Figure size 432x288 with 1 Axes>"
      ]
     },
     "metadata": {
      "needs_background": "light"
     },
     "output_type": "display_data"
    },
    {
     "name": "stdout",
     "output_type": "stream",
     "text": [
      "13.114877048604\n",
      "172\n",
      "48\n",
      "6\n",
      "7.211102550927978\n"
     ]
    }
   ],
   "source": [
    "import numpy as np\n",
    "import matplotlib.pyplot as plt\n",
    "fig = plt.figure()\n",
    "\n",
    "ax = plt.axes(projection='3d')\n",
    "\n",
    "def euclidean_distance(v1, v2, v3, v4):\n",
    "    m = []\n",
    "    for (x,y,z,c) in zip(v1, v2,v3,v4):\n",
    "        p12 = (x - y)**2\n",
    "        p34 = (z - c)**2\n",
    "        p13 = (x - z)**2\n",
    "        p14 = (x - c)**2\n",
    "        p23 = (y - z)**2\n",
    "        p24 = (y - c)**2\n",
    "        m.append(p12)\n",
    "        m.append(p34)\n",
    "        m.append(p13)\n",
    "        m.append(p14)\n",
    "        m.append(p23)\n",
    "        m.append(p24)\n",
    "    return sum(m)** 0.5\n",
    "    # return sum((x - y)**2 + (z-c)**2 + (x - z)**2 + (x - c)**2 + (y - z)**2 + (y - c)**2 for x, y, z, c in zip(v1, v2, v3, v4))** 0.5\n",
    "\n",
    "def sqr_euclidean_distance(v1, v2, v3, v4):\n",
    "    m = []\n",
    "    for (x,y,z,c) in zip(v1, v2,v3,v4):\n",
    "        p12 = (x - y)**2\n",
    "        p34 = (z - c)**2\n",
    "        p13 = (x - z)**2\n",
    "        p14 = (x - c)**2\n",
    "        p23 = (y - z)**2\n",
    "        p24 = (y - c)**2\n",
    "        m.append(p12)\n",
    "        m.append(p34)\n",
    "        m.append(p13)\n",
    "        m.append(p14)\n",
    "        m.append(p23)\n",
    "        m.append(p24)\n",
    "    return sum(m)\n",
    "    # return sum((x - y)**2 + (z-c)**2 + (x - z)**2 + (x - c)**2 + (y - z)**2 + (y - c)**2 for x, y, z, c in zip(v1, v2, v3, v4))\n",
    "\n",
    "\n",
    "\n",
    "def manhattan_distance(v1, v2, v3, v4):\n",
    "    m = []\n",
    "    for (x,y,z,c) in zip(v1, v2,v3,v4):\n",
    "        p12 = abs(x - y)\n",
    "        p34 = abs(z - c)\n",
    "        p13 = abs(x - z)\n",
    "        p14 = abs(x - c)\n",
    "        p23 = abs(y - z)\n",
    "        p24 = abs(y - c)\n",
    "        m.append(p12)\n",
    "        m.append(p34)\n",
    "        m.append(p13)\n",
    "        m.append(p14)\n",
    "        m.append(p23)\n",
    "        m.append(p24)\n",
    "    return sum(m)\n",
    "    # return sum(abs(x - y)+abs(z-c)+abs(x - z)+abs(x - c)+abs(y - z)+abs(y - c) for (x,y,z,c) in zip(v1, v2, v3,v4))\n",
    "\n",
    "def chebyshev_distance(v1, v2, v3, v4):\n",
    "    m = []\n",
    "    for (x,y,z,c) in zip(v1, v2,v3,v4):\n",
    "        p12 = abs(x - y)\n",
    "        p34 = abs(z - c)\n",
    "        p13 = abs(x - z)\n",
    "        p14 = abs(x - c)\n",
    "        p23 = abs(y - z)\n",
    "        p24 = abs(y - c)\n",
    "        m.append(p12)\n",
    "        m.append(p34)\n",
    "        m.append(p13)\n",
    "        m.append(p14)\n",
    "        m.append(p23)\n",
    "        m.append(p24)\n",
    "    return max(m)\n",
    "\n",
    "def weighted_euclidean_distance(v1, v2, v3, v4, w):\n",
    "    m = []\n",
    "    for (x,y,z,c,s) in zip(v1, v2,v3,v4,w):\n",
    "        p12 = (x - y)** 2 * s\n",
    "        p34 = (z - c)** 2 * s\n",
    "        p13 = (x - z)** 2 * s\n",
    "        p14 = (x - c)** 2 * s\n",
    "        p23 = (y - z)** 2 * s\n",
    "        p24 = (y - c)** 2 * s\n",
    "        m.append(p12)\n",
    "        m.append(p34)\n",
    "        m.append(p13)\n",
    "        m.append(p14)\n",
    "        m.append(p23)\n",
    "        m.append(p24)\n",
    "    return sum(m)**0.5\n",
    "\n",
    "\n",
    "\n",
    "\n",
    "p1 = np.array([0,0,0])\n",
    "p2 = np.array([3,3,3])\n",
    "p3 = np.array([1,4,5])\n",
    "p4 = np.array([6,3,2])\n",
    "w = np.array([0,0,1])\n",
    "\n",
    "ax.scatter(p1[0],p1[1],p1[2])\n",
    "ax.scatter(p2[0],p2[1],p2[2])\n",
    "ax.scatter(p3[0],p3[1],p3[2])\n",
    "ax.scatter(p4[0],p4[1],p4[2])\n",
    "plt.show()\n",
    "\n",
    "print(euclidean_distance(p1,p2,p3,p4))\n",
    "print(sqr_euclidean_distance(p1,p2,p3,p4))\n",
    "print(manhattan_distance(p1,p2,p3,p4))\n",
    "print(chebyshev_distance(p1,p2,p3,p4))\n",
    "print(weighted_euclidean_distance(p1,p2,p3,p4,w))\n"
   ]
  },
  {
   "cell_type": "markdown",
   "metadata": {},
   "source": [
    "### 1.3.2 Задание\n",
    "Задача:\n",
    "\n",
    "Создать 5x5 матрицу со значениями в строках от 0 до 4. Для создания\n",
    "необходимо использовать функцию arange.\n",
    "\n",
    "Решение:"
   ]
  },
  {
   "cell_type": "code",
   "execution_count": 5,
  "metadata": {},
   "outputs": [
    {
     "name": "stdout",
     "output_type": "stream",
     "text": [
      "[[0. 1. 2. 3. 4.]\n",
      " [0. 1. 2. 3. 4.]\n",
      " [0. 1. 2. 3. 4.]\n",
      " [0. 1. 2. 3. 4.]\n",
      " [0. 1. 2. 3. 4.]]\n"
     ]
    }
   ],
   "source": [
    "import numpy as np\n",
    "Z = np.zeros((5,5))\n",
    "Z += np.arange(5)\n",
    "print(Z)"
   ]
  },
  {
   "cell_type": "markdown",
   "metadata": {},
   "source": [
    "### Задачи классификации\n",
    "#### [Решение задачи классификации методом k ближайших соседей](https://loginom.ru/blog/knn)\n",
    "\n",
    "Метод k-ближайших соседей используется для решения задачи\n",
    "классификации. Он относит объекты к классу, которому принадлежит\n",
    "большинство из k его ближайших соседей в многомерном пространстве\n",
    "признаков. Это один из простейших алгоритмов обучения\n",
    "классификационных моделей. Число k – это количество соседних объектов\n",
    "в пространстве признаков, которые сравниваются с классифицируемым\n",
    "объектом. Иными словами, если k=10, то каждый объект сравнивается с 10-\n",
    "ю соседями. В процессе обучения алгоритм просто запоминает все векторы\n",
    "признаков и соответствующие им метки классов. При работе с реальными\n",
    "данными, т.е. наблюдениями, метки класса которых неизвестны,\n",
    "вычисляется расстояние между вектором нового наблюдения и ранее\n",
    "запомненными. Затем выбирается k ближайших к нему векторов, и новый\n",
    "объект относится к классу, которому принадлежит большинство из них.\n",
    "Приведем алгоритм метода.\n",
    "\n",
    "1. Выберите значение K соседей (скажем, k = 5)\n",
    "2. Найдите ближайшую точку данных K (5) для нашей новой точки\n",
    "данных на основе евклидова расстояния (которое мы обсудим позже)\n",
    "3. Среди этих K точек данных подсчитайте точки данных в каждой\n",
    "категории.\n",
    "4. Назначьте новую точку данных категории, которая имеет наибольшее\n",
    "количество соседей с новой точкой данных\n",
    "\n",
    "<div align=\"сenter\">\n",
    "<img src=\"https://loginom.ru/sites/default/files/blogpost-files/knn-working.svg\" align=\"сenter\" style=\"width: 80%\"\n",
    "</div>\n",
    "\n",
    "Модуль библиотеки sklearn - sklearn.neighbors предоставляет\n",
    "функциональные возможности для контролируемого обучения на основе\n",
    "соседей. Обучение на основе контролируемых соседей бывает двух видов:\n",
    "___классификация данных___ с дискретными метками и ___регрессия для данных___ с\n",
    "непрерывными метками. В данном разделе рассмотрим несколько примеров\n",
    "с использованием названного метода.\n",
    "\n",
    "### 2.2.1 Пример\n",
    "\n",
    "Задача:\n",
    "\n",
    "В примере показано создание 2d-массива со значениями x и y. Список\n",
    "target содержит возможные выходные классы (часто называемые\n",
    "метками). Далее происходит обучене классификатора k-ближайших\n",
    "соседей по исходным данным. Далее производится прогноз\n",
    "принадлежности к классам для двух точек данных.\n",
    "\n",
    "Решение:"
   ]
  },
  {
   "cell_type": "code",
   "execution_count": 1,
  "metadata": {},
   "outputs": [
    {
     "name": "stdout",
     "output_type": "stream",
     "text": [
      "KNeighborsClassifier(n_neighbors=3)\n",
      "(-2,2) is class\n",
      "[0]\n",
      "(1,3) is class\n",
      "[1]\n"
     ]
    }
   ],
   "source": [
    "from sklearn.neighbors import KNeighborsClassifier\n",
    "import numpy as np\n",
    "\n",
    "#данные\n",
    "X = np.array([[-1,-1],[-2,-1],[-3,-2],[1,1],[2,1],[3,2]])\n",
    "target = [0,0,0,1,1,1]\n",
    "# обучаем модель k-ближайших соседей к данным\n",
    "K = 3\n",
    "model = KNeighborsClassifier(n_neighbors = K)\n",
    "model.fit(X, target)\n",
    "print(model)\n",
    "# делаем прогноз\n",
    "print('(-2,2) is class'),\n",
    "print(model.predict([[-2,2]]))\n",
    "\n",
    "print('(1,3) is class'),\n",
    "print(model.predict([[-1,3]]))"
   ]
  },
  {
   "cell_type": "markdown",
   "metadata": {},
   "source": [
    "### 2.2.2 Пример\n",
    "Задача:\n",
    "\n",
    "Далее приведем более наглядный пример. Будет построена граница\n",
    "решения для каждого класса. В качестве данных будем использовать уже\n",
    "знакомый нам и встроенный в библиотеку sklearn набор данных ирисов\n",
    "Фишера. Этот набор данных стал уже классическим, и часто используется\n",
    "в литературе для иллюстрации работы различных статистических\n",
    "алгоритмов. Датасет содержит наблюдения за 150 разными цветками\n",
    "ирисов, данные по каждому цветку расположены в строках. В стобцах\n",
    "записаны длина и ширина чашелистика, длина и ширина лепестка, вид\n",
    "ириса.\n",
    "\n",
    "Решение:"
   ]
  },
  {
   "cell_type": "code",
   "execution_count": 2,
  "metadata": {},
   "outputs": [
    {
     "data": {
      "text/html": [
       "<div>\n",
       "<style scoped>\n",
       "    .dataframe tbody tr th:only-of-type {\n",
       "        vertical-align: middle;\n",
       "    }\n",
       "\n",
       "    .dataframe tbody tr th {\n",
       "        vertical-align: top;\n",
       "    }\n",
       "\n",
       "    .dataframe thead th {\n",
       "        text-align: right;\n",
       "    }\n",
       "</style>\n",
       "<table border=\"1\" class=\"dataframe\">\n",
       "  <thead>\n",
       "    <tr style=\"text-align: right;\">\n",
       "      <th></th>\n",
       "      <th>sepal_length</th>\n",
       "      <th>sepal_width</th>\n",
       "      <th>petal_length</th>\n",
       "      <th>petal_width</th>\n",
       "      <th>species</th>\n",
       "    </tr>\n",
       "  </thead>\n",
       "  <tbody>\n",
       "    <tr>\n",
       "      <th>0</th>\n",
       "      <td>5.1</td>\n",
       "      <td>3.5</td>\n",
       "      <td>1.4</td>\n",
       "      <td>0.2</td>\n",
       "      <td>setosa</td>\n",
       "    </tr>\n",
       "    <tr>\n",
       "      <th>1</th>\n",
       "      <td>4.9</td>\n",
       "      <td>3.0</td>\n",
       "      <td>1.4</td>\n",
       "      <td>0.2</td>\n",
       "      <td>setosa</td>\n",
       "    </tr>\n",
       "    <tr>\n",
       "      <th>2</th>\n",
       "      <td>4.7</td>\n",
       "      <td>3.2</td>\n",
       "      <td>1.3</td>\n",
       "      <td>0.2</td>\n",
       "      <td>setosa</td>\n",
       "    </tr>\n",
       "    <tr>\n",
       "      <th>3</th>\n",
       "      <td>4.6</td>\n",
       "      <td>3.1</td>\n",
       "      <td>1.5</td>\n",
       "      <td>0.2</td>\n",
       "      <td>setosa</td>\n",
       "    </tr>\n",
       "    <tr>\n",
       "      <th>4</th>\n",
       "      <td>5.0</td>\n",
       "      <td>3.6</td>\n",
       "      <td>1.4</td>\n",
       "      <td>0.2</td>\n",
       "      <td>setosa</td>\n",
       "    </tr>\n",
       "    <tr>\n",
       "      <th>...</th>\n",
       "      <td>...</td>\n",
       "      <td>...</td>\n",
       "      <td>...</td>\n",
       "      <td>...</td>\n",
       "      <td>...</td>\n",
       "    </tr>\n",
       "    <tr>\n",
       "      <th>145</th>\n",
       "      <td>6.7</td>\n",
       "      <td>3.0</td>\n",
       "      <td>5.2</td>\n",
       "      <td>2.3</td>\n",
       "      <td>virginica</td>\n",
       "    </tr>\n",
       "    <tr>\n",
       "      <th>146</th>\n",
       "      <td>6.3</td>\n",
       "      <td>2.5</td>\n",
       "      <td>5.0</td>\n",
       "      <td>1.9</td>\n",
       "      <td>virginica</td>\n",
       "    </tr>\n",
       "    <tr>\n",
       "      <th>147</th>\n",
       "      <td>6.5</td>\n",
       "      <td>3.0</td>\n",
       "      <td>5.2</td>\n",
       "      <td>2.0</td>\n",
       "      <td>virginica</td>\n",
       "    </tr>\n",
       "    <tr>\n",
       "      <th>148</th>\n",
       "      <td>6.2</td>\n",
       "      <td>3.4</td>\n",
       "      <td>5.4</td>\n",
       "      <td>2.3</td>\n",
       "      <td>virginica</td>\n",
       "    </tr>\n",
       "    <tr>\n",
       "      <th>149</th>\n",
       "      <td>5.9</td>\n",
       "      <td>3.0</td>\n",
       "      <td>5.1</td>\n",
       "      <td>1.8</td>\n",
       "      <td>virginica</td>\n",
       "    </tr>\n",
       "  </tbody>\n",
       "</table>\n",
       "<p>150 rows × 5 columns</p>\n",
       "</div>"
      ],
      "text/plain": [
       "     sepal_length  sepal_width  petal_length  petal_width    species\n",
       "0             5.1          3.5           1.4          0.2     setosa\n",
       "1             4.9          3.0           1.4          0.2     setosa\n",
       "2             4.7          3.2           1.3          0.2     setosa\n",
       "3             4.6          3.1           1.5          0.2     setosa\n",
       "4             5.0          3.6           1.4          0.2     setosa\n",
       "..            ...          ...           ...          ...        ...\n",
       "145           6.7          3.0           5.2          2.3  virginica\n",
       "146           6.3          2.5           5.0          1.9  virginica\n",
       "147           6.5          3.0           5.2          2.0  virginica\n",
       "148           6.2          3.4           5.4          2.3  virginica\n",
       "149           5.9          3.0           5.1          1.8  virginica\n",
       "\n",
       "[150 rows x 5 columns]"
      ]
     },
     "execution_count": 2,
     "metadata": {},
     "output_type": "execute_result"
    }
   ],
   "source": [
    "from sklearn.neighbors import KNeighborsClassifier\n",
    "import seaborn as sns\n",
    "iris = sns.load_dataset('iris')\n",
    "iris"
   ]
  },
  {
   "cell_type": "markdown",
   "metadata": {},
   "source": [
    "### 2.2.3 Пример\n",
    "\n",
    "Задача:\n",
    "\n",
    "Покажем на графиках зависимости ширины лепестка от его длины, а также\n",
    "аналогичный график зависимость для длины и ширины чашелистика.\n",
    "Разные виды цветков отмечены разными цветами."
   ]
  },
  {
   "cell_type": "code",
   "execution_count": 2,
  "metadata": {},
   "outputs": [
    {
     "data": {
      "image/png": "[encoded data removed]",
      "text/plain": [
       "<Figure size 1152x504 with 2 Axes>"
      ]
     },
     "metadata": {
      "needs_background": "light"
     },
     "output_type": "display_data"
    }
   ],
   "source": [
    "import matplotlib.pyplot as plt\n",
    "import seaborn as sns\n",
    "iris = sns.load_dataset('iris')\n",
    "\n",
    "#Объявляем фигуру из двух графиков и ее размер\n",
    "plt.figure(figsize =(16,7))\n",
    "\n",
    "#Левый график\n",
    "plt.subplot(121)\n",
    "sns.scatterplot(\n",
    "    data = iris, # из этой таблицы нарисовать точки\n",
    "    x = 'petal_width', y = 'petal_length', # с этими координатами,\n",
    "    hue = 'species', # для которых цвет определить согласно этому столбцу\n",
    "    s = 70 # размер точек\n",
    ")\n",
    "plt.xlabel('Длина лепестка, см')\n",
    "plt.ylabel('Ширина лепестка, см')\n",
    "plt.legend() #добавить легенду\n",
    "plt.grid()# добавить сетку\n",
    "\n",
    "#Правый график аналогично\n",
    "plt.subplot(122)\n",
    "sns.scatterplot(\n",
    "    data = iris,\n",
    "    x = 'sepal_width', y = 'sepal_length',\n",
    "    hue = 'species',\n",
    "    s = 70\n",
    ")\n",
    "plt.xlabel('Длина лепестка, см')\n",
    "plt.ylabel('Ширина лепестка, см')\n",
    "plt.legend()\n",
    "plt.grid()"
   ]
  },
  {
   "cell_type": "markdown",
   "metadata": {},
   "source": [
    "### 2.2.4 Пример\n",
    "Задача:\n",
    "\n",
    "Из графиков видно, что в первом случае классы визуально хорошо\n",
    "отделимы друг от друга, хотя два классе имеют небольшое пересечение.\n",
    "Во втором случае разделить два класса между собой уже намного труднее.\n",
    "Далее разделим датасет на обучающую и тестовую выборки в\n",
    "соотношении 80:20. Обучающая выборка (training sample) — выборка, по\n",
    "которой производится настройка (оптимизация параметров) модели\n",
    "зависимости. Тестовая (или контрольная) выборка (test sample) —\n",
    "выборка, по которой оценивается качество построенной модели.\n",
    "\n",
    "Решение:"
   ]
  },
  {
   "cell_type": "code",
   "execution_count": 7,
  "metadata": {},
   "outputs": [
    {
     "data": {
      "text/plain": [
       "119    virginica\n",
       "107    virginica\n",
       "40        setosa\n",
       "149    virginica\n",
       "9         setosa\n",
       "Name: species, dtype: object"
      ]
     },
     "execution_count": 7,
     "metadata": {},
     "output_type": "execute_result"
    }
   ],
   "source": [
    "import matplotlib.pyplot as plt\n",
    "from sklearn.neighbors import KNeighborsClassifier\n",
    "from sklearn.model_selection import train_test_split\n",
    "import numpy as np\n",
    "import seaborn as sns\n",
    "iris = sns.load_dataset('iris')\n",
    "X_train, X_test, y_train, y_test = train_test_split(\n",
    "    # посколько iris это pandas-таблица, для нее нужно указывать iloc\n",
    "    iris.iloc[:,:-1], #берем все колонки кроме последней в признаки\n",
    "    iris.iloc[:,-1], # последнюю в целевую переменную(класс)\n",
    "    test_size = 0.20 # размер тестовой выборки 20%\n",
    ")\n",
    "X_train.shape, X_test.shape, y_train.shape, y_test.shape"
   ]
  },
  {
   "cell_type": "code",
   "execution_count": 15,
  "metadata": {},
   "outputs": [
    {
     "data": {
      "text/html": [
       "<div>\n",
       "<style scoped>\n",
       "    .dataframe tbody tr th:only-of-type {\n",
       "        vertical-align: middle;\n",
       "    }\n",
       "\n",
       "    .dataframe tbody tr th {\n",
       "        vertical-align: top;\n",
       "    }\n",
       "\n",
       "    .dataframe thead th {\n",
       "        text-align: right;\n",
       "    }\n",
       "</style>\n",
       "<table border=\"1\" class=\"dataframe\">\n",
       "  <thead>\n",
       "    <tr style=\"text-align: right;\">\n",
       "      <th></th>\n",
       "      <th>sepal_length</th>\n",
       "      <th>sepal_width</th>\n",
       "      <th>petal_length</th>\n",
       "      <th>petal_width</th>\n",
       "    </tr>\n",
       "  </thead>\n",
       "  <tbody>\n",
       "    <tr>\n",
       "      <th>97</th>\n",
       "      <td>6.2</td>\n",
       "      <td>2.9</td>\n",
       "      <td>4.3</td>\n",
       "      <td>1.3</td>\n",
       "    </tr>\n",
       "    <tr>\n",
       "      <th>130</th>\n",
       "      <td>7.4</td>\n",
       "      <td>2.8</td>\n",
       "      <td>6.1</td>\n",
       "      <td>1.9</td>\n",
       "    </tr>\n",
       "    <tr>\n",
       "      <th>63</th>\n",
       "      <td>6.1</td>\n",
       "      <td>2.9</td>\n",
       "      <td>4.7</td>\n",
       "      <td>1.4</td>\n",
       "    </tr>\n",
       "    <tr>\n",
       "      <th>104</th>\n",
       "      <td>6.5</td>\n",
       "      <td>3.0</td>\n",
       "      <td>5.8</td>\n",
       "      <td>2.2</td>\n",
       "    </tr>\n",
       "    <tr>\n",
       "      <th>35</th>\n",
       "      <td>5.0</td>\n",
       "      <td>3.2</td>\n",
       "      <td>1.2</td>\n",
       "      <td>0.2</td>\n",
       "    </tr>\n",
       "  </tbody>\n",
       "</table>\n",
       "</div>"
      ],
      "text/plain": [
       "     sepal_length  sepal_width  petal_length  petal_width\n",
       "97            6.2          2.9           4.3          1.3\n",
       "130           7.4          2.8           6.1          1.9\n",
       "63            6.1          2.9           4.7          1.4\n",
       "104           6.5          3.0           5.8          2.2\n",
       "35            5.0          3.2           1.2          0.2"
      ]
     },
     "execution_count": 15,
     "metadata": {},
     "output_type": "execute_result"
    }
   ],
   "source": [
    "X_train.head()"
   ]
  },
  {
   "cell_type": "code",
   "execution_count": 14,
  "metadata": {},
   "outputs": [
    {
     "data": {
      "text/plain": [
       "97     versicolor\n",
       "130     virginica\n",
       "63     versicolor\n",
       "104     virginica\n",
       "35         setosa\n",
       "Name: species, dtype: object"
      ]
     },
     "execution_count": 14,
     "metadata": {},
     "output_type": "execute_result"
    }
   ],
   "source": [
    "y_train.head()"
   ]
  },
  {
   "cell_type": "code",
   "execution_count": 17,
  "metadata": {},
   "outputs": [
    {
     "data": {
      "text/plain": [
       "array(['versicolor', 'versicolor', 'setosa', 'virginica', 'virginica',\n",
       "       'setosa', 'setosa', 'versicolor', 'setosa', 'setosa', 'setosa',\n",
       "       'setosa', 'setosa', 'virginica', 'setosa', 'versicolor',\n",
       "       'virginica', 'virginica', 'versicolor', 'virginica', 'virginica',\n",
       "       'setosa', 'versicolor', 'setosa', 'setosa', 'virginica', 'setosa',\n",
       "       'setosa', 'setosa', 'virginica'], dtype=object)"
      ]
     },
     "execution_count": 17,
     "metadata": {},
     "output_type": "execute_result"
    }
   ],
   "source": [
    "#обучим метод трех ближайших соседей\n",
    "model = KNeighborsClassifier(n_neighbors=3)\n",
    "model.fit(X_train,y_train)\n",
    "#Получим предсказание модели\n",
    "y_pred = model.predict(X_test)\n",
    "y_pred"
   ]
  },
  {
   "cell_type": "code",
   "execution_count": 18,
  "metadata": {},
   "outputs": [
    {
     "name": "stdout",
     "output_type": "stream",
     "text": [
      "accuracy: 0.967\n"
     ]
    },
    {
     "data": {
      "image/png": "[encoded data removed]",
      "text/plain": [
       "<Figure size 720x504 with 1 Axes>"
      ]
     },
     "metadata": {
      "needs_background": "light"
     },
     "output_type": "display_data"
    }
   ],
   "source": [
    "# Покажем на графике, что отражает полученное число.\n",
    "# Красным цветом обозначены точки, для которых классификация сработала неправильно.\n",
    "plt.figure(figsize=(10,7))\n",
    "sns.scatterplot(x='petal_width', y ='petal_length',data= iris, hue='species',s =70)\n",
    "plt.xlabel('Длина лепестка, см')\n",
    "plt.ylabel('Ширина лепестка, см')\n",
    "plt.legend(loc=2)\n",
    "plt.grid()\n",
    "\n",
    "#Перебираем все объекты из теста\n",
    "for i in range(len(y_test)):\n",
    "    # Если предсказание неправильное\n",
    "    if np.array(y_test)[i] != y_pred[i]:\n",
    "        # то подсвечиваем точку красным\n",
    "        plt.scatter(X_test.iloc[i,3], X_test.iloc[i,2],color='red',s=150)\n",
    "#Качество модели (доля правильно классифицированных точек)\n",
    "from sklearn.metrics import accuracy_score\n",
    "print(f'accuracy:{accuracy_score(y_test,y_pred) : .3}')"
   ]
  },
  {
   "cell_type": "markdown",
   "metadata": {},
   "source": [
    "### 2.3.1 Задание\n",
    "\n",
    "Задача:\n",
    "\n",
    "Для предыдущего примера поэкспериментируйте с параметрами\n",
    "классификатора:\n",
    "1. Установите другое количество ближайших соседей (k = 1, 5, 10).\n",
    "2. Установите размер тестовой выборки 15% от всего датасета.\n",
    "3. Постройте графики и оцените качество моделей, проанализируйте\n",
    "результаты."
   ]
  },
  {
   "cell_type": "code",
   "execution_count": 19,
  "metadata": {},
   "outputs": [
    {
     "data": {
      "text/plain": [
       "((127, 4), (23, 4), (127,), (23,))"
      ]
     },
     "execution_count": 19,
     "metadata": {},
     "output_type": "execute_result"
    }
   ],
   "source": [
    "import matplotlib.pyplot as plt\n",
    "from sklearn.neighbors import KNeighborsClassifier\n",
    "from sklearn.model_selection import train_test_split\n",
    "import numpy as np\n",
    "import seaborn as sns\n",
    "iris = sns.load_dataset('iris')\n",
    "X_train, X_test, y_train, y_test = train_test_split(\n",
    "    # посколько iris это pandas-таблица, для нее нужно указывать iloc\n",
    "    iris.iloc[:,:-1], #берем все колонки кроме последней в признаки\n",
    "    iris.iloc[:,-1], # последнюю в целевую переменную(класс)\n",
    "    test_size = 0.15 # размер тестовой выборки 15%\n",
    ")\n",
    "X_train.shape, X_test.shape, y_train.shape, y_test.shape"
   ]
  },
  {
   "cell_type": "code",
   "execution_count": 20,
  "metadata": {},
   "outputs": [
    {
     "data": {
      "text/html": [
       "<div>\n",
       "<style scoped>\n",
       "    .dataframe tbody tr th:only-of-type {\n",
       "        vertical-align: middle;\n",
       "    }\n",
       "\n",
       "    .dataframe tbody tr th {\n",
       "        vertical-align: top;\n",
       "    }\n",
       "\n",
       "    .dataframe thead th {\n",
       "        text-align: right;\n",
       "    }\n",
       "</style>\n",
       "<table border=\"1\" class=\"dataframe\">\n",
       "  <thead>\n",
       "    <tr style=\"text-align: right;\">\n",
       "      <th></th>\n",
       "      <th>sepal_length</th>\n",
       "      <th>sepal_width</th>\n",
       "      <th>petal_length</th>\n",
       "      <th>petal_width</th>\n",
       "    </tr>\n",
       "  </thead>\n",
       "  <tbody>\n",
       "    <tr>\n",
       "      <th>79</th>\n",
       "      <td>5.7</td>\n",
       "      <td>2.6</td>\n",
       "      <td>3.5</td>\n",
       "      <td>1.0</td>\n",
       "    </tr>\n",
       "    <tr>\n",
       "      <th>145</th>\n",
       "      <td>6.7</td>\n",
       "      <td>3.0</td>\n",
       "      <td>5.2</td>\n",
       "      <td>2.3</td>\n",
       "    </tr>\n",
       "    <tr>\n",
       "      <th>58</th>\n",
       "      <td>6.6</td>\n",
       "      <td>2.9</td>\n",
       "      <td>4.6</td>\n",
       "      <td>1.3</td>\n",
       "    </tr>\n",
       "    <tr>\n",
       "      <th>101</th>\n",
       "      <td>5.8</td>\n",
       "      <td>2.7</td>\n",
       "      <td>5.1</td>\n",
       "      <td>1.9</td>\n",
       "    </tr>\n",
       "    <tr>\n",
       "      <th>40</th>\n",
       "      <td>5.0</td>\n",
       "      <td>3.5</td>\n",
       "      <td>1.3</td>\n",
       "      <td>0.3</td>\n",
       "    </tr>\n",
       "  </tbody>\n",
       "</table>\n",
       "</div>"
      ],
      "text/plain": [
       "     sepal_length  sepal_width  petal_length  petal_width\n",
       "79            5.7          2.6           3.5          1.0\n",
       "145           6.7          3.0           5.2          2.3\n",
       "58            6.6          2.9           4.6          1.3\n",
       "101           5.8          2.7           5.1          1.9\n",
       "40            5.0          3.5           1.3          0.3"
      ]
     },
     "execution_count": 20,
     "metadata": {},
     "output_type": "execute_result"
    }
   ],
   "source": [
    "X_train.head()"
   ]
  },
  {
   "cell_type": "code",
   "execution_count": 21,
  "metadata": {},
   "outputs": [
    {
     "data": {
      "text/plain": [
       "79     versicolor\n",
       "145     virginica\n",
       "58     versicolor\n",
       "101     virginica\n",
       "40         setosa\n",
       "Name: species, dtype: object"
      ]
     },
     "execution_count": 21,
     "metadata": {},
     "output_type": "execute_result"
    }
   ],
   "source": [
    "y_train.head()"
   ]
  },
  {
   "cell_type": "code",
   "execution_count": 23,
  "metadata": {},
   "outputs": [
    {
     "data": {
      "text/plain": [
       "array(['setosa', 'virginica', 'virginica', 'virginica', 'virginica',\n",
       "       'versicolor', 'virginica', 'setosa', 'virginica', 'virginica',\n",
       "       'setosa', 'versicolor', 'virginica', 'setosa', 'versicolor',\n",
       "       'setosa', 'setosa', 'virginica', 'versicolor', 'setosa',\n",
       "       'virginica', 'virginica', 'virginica'], dtype=object)"
      ]
     },
     "execution_count": 23,
     "metadata": {},
     "output_type": "execute_result"
    }
   ],
   "source": [
    "#обучим метод 1 ближайшего соседа\n",
    "model = KNeighborsClassifier(n_neighbors=1)\n",
    "model.fit(X_train,y_train)\n",
    "#Получим предсказание модели\n",
    "y_pred = model.predict(X_test)\n",
    "y_pred"
   ]
  },
  {
   "cell_type": "code",
   "execution_count": 25,
  "metadata": {},
   "outputs": [
    {
     "name": "stdout",
     "output_type": "stream",
     "text": [
      "accuracy: 0.87\n"
     ]
    },
    {
     "data": {
      "image/png": "[encoded data removed]",
      "text/plain": [
       "<Figure size 720x504 with 1 Axes>"
      ]
     },
     "metadata": {
      "needs_background": "light"
     },
     "output_type": "display_data"
    }
   ],
   "source": [
    "# Покажем на графике, что отражает полученное число.\n",
    "# Красным цветом обозначены точки, для которых классификация сработала неправильно.\n",
    "plt.figure(figsize=(10,7))\n",
    "sns.scatterplot(x='petal_width', y ='petal_length',data= iris, hue='species',s =70)\n",
    "plt.xlabel('Длина лепестка, см')\n",
    "plt.ylabel('Ширина лепестка, см')\n",
    "plt.legend(loc=2)\n",
    "plt.grid()\n",
    "\n",
    "#Перебираем все объекты из теста\n",
    "for i in range(len(y_test)):\n",
    "    # Если предсказание неправильное\n",
    "    if np.array(y_test)[i] != y_pred[i]:\n",
    "        # то подсвечиваем точку красным\n",
    "        plt.scatter(X_test.iloc[i,3], X_test.iloc[i,2],color='red',s=150)\n",
    "#Качество модели (доля правильно классифицированных точек)\n",
    "from sklearn.metrics import accuracy_score\n",
    "print(f'accuracy:{accuracy_score(y_test,y_pred) : .3}')"
   ]
  },
  {
   "cell_type": "markdown",
   "metadata": {},
   "source": [
    "### Работа с категориальными данными\n",
    "&emsp;__Работа с категориальными данными__\n",
    "&emsp;Часто бывает полезно разбивать объекты на категории не по\n",
    "количеству, а по качеству. Эта качественная информация нередко\n",
    "представляется как принадлежность наблюдения к отдельной категории,\n",
    "такой как пол, цвета или марка автомобиля. Однако не все категориальные\n",
    "данные одинаковые. Наборы категорий без внутреннего упорядочения\n",
    "называются номинальными. Примеры номинальных категорий включают:\n",
    "* синий, красный, зеленый;\n",
    "* мужчина, женщина;\n",
    "* банан, клубника, яблоко\n",
    "\n",
    "&emsp;С другой стороны, когда набор категорий имеет некое естественное\n",
    "упорядочение, мы называем его порядковым. Например:\n",
    "\n",
    "* низкий, средний, высокий;\n",
    "* молодые, старые;\n",
    "* согласен, нейтрален, не согласен.\n",
    "\n",
    "&emsp;Более того, категориальная информация часто представлена в данных\n",
    "в виде вектора или столбца символьных значений (например, \"Москва\",\n",
    "\"Санкт-Петербург\", \"Казань\"). Проблема в том, что большинство машиннообучающихся алгоритмов требуют ввода числовых значений.  \n",
    "&emsp;Алгоритм k ближайших соседей предоставляет простой пример.\n",
    "Одним из шагов в алгоритме является вычисление расстояний между\n",
    "наблюдениями — часто с использованием евклидова расстояния. Однако\n",
    "вычисление расстояния, очевидно, невозможно, если значение х, является\n",
    "строковым типом (например, \"Москва\"). Для того чтобы его можно было\n",
    "ввести в уравнение евклидова расстояния, нам нужно преобразовать это\n",
    "строковое значение в числовой формат. Наша цель — сделать\n",
    "преобразование, которое правильно передает информацию в категориях\n",
    "(упорядоченность, относительные интервалы между категориями и т. д.).\n",
    "Существует большое количество методов кодирования категориальных\n",
    "данных, среди которых нет универсальных. Выбирая метод, стоит\n",
    "отталкиваться от ваших данных, мощности множества категорий и\n",
    "алгоритма машинного обучения.\n",
    "&emsp;Далее рассмотрим некоторые методы таких преобразований.\n",
    "\n",
    "### 3.2.1. Пример\n",
    "\n",
    "Задача:\n",
    "\n",
    "Дан порядковый категориальный признак (например, высокий, средний,\n",
    "низкий). Выполнить его кодировку.\n",
    "\n",
    "Для решения задачи можно использовать метод replace фрейма данных\n",
    "pandas для преобразования строковых меток в числовые эквиваленты\n",
    "\n",
    "Решение:"
   ]
  },
  {
   "cell_type": "code",
   "execution_count": 26,
  "metadata": {},
   "outputs": [
    {
     "data": {
      "text/plain": [
       "0    1\n",
       "1    1\n",
       "2    2\n",
       "3    2\n",
       "4    3\n",
       "Name: оценка, dtype: int64"
      ]
     },
     "execution_count": 26,
     "metadata": {},
     "output_type": "execute_result"
    }
   ],
   "source": [
    "# Загрузить библиотеку\n",
    "\n",
    "import pandas as pd\n",
    "\n",
    "#Создать признаки\n",
    "dataframe = pd.DataFrame({\"оценка\": [\"низкая\",\"низкая\", \"средняя\", \"средняя\", \"высокая\"]})\n",
    "#Создать словарь преобразования шкалы\n",
    "scale_mapper = {\"низкая\":1,\"средняя\":2,\"высокая\":3}\n",
    "\n",
    "#Заменить значения признаков значениями словаря\n",
    "dataframe[\"оценка\"].replace(scale_mapper)"
   ]
  },
  {
   "cell_type": "markdown",
   "metadata": {},
   "source": [
    "### 3.2.2. Пример\n",
    "Задача:\n",
    "\n",
    "Дан словарь, и требуется его конвертировать в матрицу признаков.\n",
    "Для решения задачи можно задействовать класс-векторизатор словаря\n",
    "Dictvectorizer:\n",
    "\n",
    "Решение:"
   ]
  },
  {
   "cell_type": "code",
   "execution_count": 27,
  "metadata": {},
   "outputs": [
    {
     "data": {
      "text/plain": [
       "array([[0., 2., 4.],\n",
       "       [0., 4., 3.],\n",
       "       [2., 1., 0.],\n",
       "       [2., 2., 0.]])"
      ]
     },
     "execution_count": 27,
     "metadata": {},
     "output_type": "execute_result"
    }
   ],
   "source": [
    "# Импортировать библиотеку\n",
    "from sklearn.feature_extraction import  DictVectorizer\n",
    "# Создать словарь\n",
    "data_dict = [{\"красный\":2, \"синий\":4},\n",
    "             {\"красный\":4, \"синий\":3},\n",
    "             {\"красный\":1, \"желтый\":2},\n",
    "             {\"красный\":2, \"желтый\":2}]\n",
    "# Создать векторизатор словаря\n",
    "dictivectorizer = DictVectorizer(sparse=False)\n",
    "#Конвертировать словарь в матрицу признаков\n",
    "features = dictivectorizer.fit_transform(data_dict)\n",
    "features"
   ]
  },
  {
   "cell_type": "markdown",
   "metadata": {},
   "source": [
    "### 3.3.2 Задание\n",
    "Задача:\n",
    "\n",
    "Определите набор признаков человека, по аналогии из РТ 1, – например,\n",
    "цвет глаз и конвертируйте его в матрицу признаков."
   ]
  },
  {
   "cell_type": "code",
   "execution_count": 43,
  "metadata": {},
   "outputs": [
    {
     "name": "stdout",
     "output_type": "stream",
     "text": [
      "{'Цвет глаз': {'серый': 2, 'карий': 4, 'синий': 5, 'зеленый': 10}}\n"
     ]
    },
    {
     "data": {
      "text/plain": [
       "array([[10.,  4.,  2.,  5.]])"
      ]
     },
     "execution_count": 43,
     "metadata": {},
     "output_type": "execute_result"
    }
   ],
   "source": [
    "# Импортировать библиотеку\n",
    "from sklearn.feature_extraction import  DictVectorizer\n",
    "# Создать словарь\n",
    "person = {}\n",
    "person['Цвет глаз'] = {\"серый\":2, \"карий\":4,\"синий\":5,\"зеленый\":10}\n",
    "print(person)\n",
    "# Создать векторизатор словаря\n",
    "dictivectorizer = DictVectorizer(sparse=False)\n",
    "#Конвертировать словарь в матрицу признаков\n",
    "features = dictivectorizer.fit_transform(person['Цвет глаз'])\n",
    "print('Степень редкости глаз(Чем больше значение - тем редкость выше)')\n",
    "features"
   ]
  }
 ],
 "metadata": {
  "kernelspec": {
   "display_name": "Python 3 (ipykernel)",
   "language": "python",
   "name": "python3"
  },
  "language_info": {
   "codemirror_mode": {
    "name": "ipython",
    "version": 3
   },
   "file_extension": ".py",
   "mimetype": "text/x-python",
   "name": "python",
   "nbconvert_exporter": "python",
   "pygments_lexer": "ipython3",
   "version": "3.10.2"
  }
 },
 "nbformat": 4,
 "nbformat_minor": 1
}
